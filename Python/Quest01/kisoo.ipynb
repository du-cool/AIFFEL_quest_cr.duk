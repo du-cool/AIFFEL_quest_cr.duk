{
  "nbformat": 4,
  "nbformat_minor": 0,
  "metadata": {
    "colab": {
      "provenance": [],
      "authorship_tag": "ABX9TyPSwGsiVFTjssw1YY2kkFsR",
      "include_colab_link": true
    },
    "kernelspec": {
      "name": "python3",
      "display_name": "Python 3"
    },
    "language_info": {
      "name": "python"
    }
  },
  "cells": [
    {
      "cell_type": "markdown",
      "metadata": {
        "id": "view-in-github",
        "colab_type": "text"
      },
      "source": [
        "<a href=\"https://colab.research.google.com/github/richpapakr/AIFFEL_quest_cr/blob/master/Python/Quest01/kisoo.ipynb\" target=\"_parent\"><img src=\"https://colab.research.google.com/assets/colab-badge.svg\" alt=\"Open In Colab\"/></a>"
      ]
    },
    {
      "cell_type": "code",
      "execution_count": 1,
      "metadata": {
        "colab": {
          "base_uri": "https://localhost:8080/"
        },
        "id": "P-2RP1S5XFGH",
        "outputId": "aaa8d276-651e-4763-f1e8-bf8b57841d7b"
      },
      "outputs": [
        {
          "output_type": "stream",
          "name": "stdout",
          "text": [
            "Hello World!\n"
          ]
        }
      ],
      "source": [
        "print('Hello World!')"
      ]
    },
    {
      "cell_type": "code",
      "source": [],
      "metadata": {
        "id": "Gbg4nHJVhXQk"
      },
      "execution_count": null,
      "outputs": []
    },
    {
      "cell_type": "code",
      "source": [
        "def is_palindrome(s):\n",
        "\n",
        "    return s == s[::-1]  # 문자열을 역순으로 비교\n",
        "\n",
        "# 테스트\n",
        "print(is_palindrome(\"level\"))  # True\n",
        "print(is_palindrome(\"radar\"))  # True\n",
        "print(is_palindrome(\"hello\"))  # False\n",
        "print(is_palindrome(\"토마토\"))  # True"
      ],
      "metadata": {
        "colab": {
          "base_uri": "https://localhost:8080/",
          "height": 112
        },
        "id": "EPnoloOZc-ip",
        "outputId": "7f4ac100-b044-47b3-f084-af530331d709"
      },
      "execution_count": 4,
      "outputs": [
        {
          "output_type": "error",
          "ename": "SyntaxError",
          "evalue": "invalid syntax (<ipython-input-4-89180f348d77>, line 10)",
          "traceback": [
            "\u001b[0;36m  File \u001b[0;32m\"<ipython-input-4-89180f348d77>\"\u001b[0;36m, line \u001b[0;32m10\u001b[0m\n\u001b[0;31m    코드 설명:\u001b[0m\n\u001b[0m       ^\u001b[0m\n\u001b[0;31mSyntaxError\u001b[0m\u001b[0;31m:\u001b[0m invalid syntax\n"
          ]
        }
      ]
    }
  ]
}